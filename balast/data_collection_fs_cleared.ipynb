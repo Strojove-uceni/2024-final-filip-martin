{
 "cells": [
  {
   "cell_type": "markdown",
   "id": "0b32b6e1-1643-4f2c-abdc-6128f4f960b5",
   "metadata": {},
   "source": [
    "# TODO\n",
    "- Zkusit jestli to nepozná už CLAP (motorky / auta) - _Martin_ 26.10. **DONE**\n",
    "- Kategorie na \"clustering\" NN - _Filip_ 27.10.\n",
    "- Nechat si schválit téma u Tomáše - _Filip_ 27.10.\n",
    "- Add links to the respective used models and libraries for downloading and later reference and update Zotero bib - _Martin_ 26.10. **DONE**\n",
    "\n",
    "**Nápady:**\n",
    "  - titulky pro hluchoněmý\n",
    "  - \"clustering\" - self referential NN (variational auto encoding - VAE)"
   ]
  },
  {
   "cell_type": "code",
   "id": "86c84506-a0a5-49cc-a2aa-5bcfdc3951a1",
   "metadata": {},
   "source": [
    "import json\n",
    "from datasets import load_dataset\n",
    "import sounddevice as sd\n",
    "from IPython.display import Audio, IFrame, display\n",
    "import pandas as pd\n",
    "import os\n",
    "os.environ[\"TOKENIZERS_PARALLELISM\"] = \"false\""
   ],
   "outputs": [],
   "execution_count": null
  },
  {
   "cell_type": "markdown",
   "id": "dede0569-4b78-48a3-90b7-b87016ccff23",
   "metadata": {},
   "source": [
    "# Audio File Download\n",
    "- Using [yt-dlp](https://pypi.org/project/yt-dlp/#embedding-yt-dlp) for downloading the youtube files."
   ]
  },
  {
   "cell_type": "code",
   "id": "63fba786-5692-4dec-b2a0-052ced7d74f5",
   "metadata": {},
   "source": [
    "import yt_dlp\n",
    "from yt_dlp import YoutubeDL\n",
    "from yt_dlp.utils import download_range_func"
   ],
   "outputs": [],
   "execution_count": null
  },
  {
   "cell_type": "code",
   "id": "1d3538f8-8a7f-4055-be18-c96a4198434f",
   "metadata": {},
   "source": [
    "url_motorcycle_test = 'https://youtu.be/--EG-JqO4S0?si=Py8FBEOvyR_5V_vm'\n",
    "url_embed_motorcycle_test = \"https://www.youtube.com/embed/--EG-JqO4S0?si=Py8FBEOvyR_5V_vm\""
   ],
   "outputs": [],
   "execution_count": null
  },
  {
   "cell_type": "code",
   "id": "0bd1bdf4-232a-40fb-b7d5-ecba3950dc5b",
   "metadata": {},
   "source": [
    "IFrame(width=560, height=315, src=url_embed_motorcycle_test, title=\"YouTube video player\")"
   ],
   "outputs": [],
   "execution_count": null
  },
  {
   "cell_type": "code",
   "id": "2dbccbb1-040f-41a8-bd48-c956e38daaea",
   "metadata": {},
   "source": [
    "keys_of_interest = ['id', 'title', 'uploader', 'duration', 'view_count', 'like_count',\n",
    "                        'categories', 'webpage_url', 'tags', 'release_year', 'filesize', 'description',\n",
    "                        'format_id', 'acodec', 'audio_ext']"
   ],
   "outputs": [],
   "execution_count": null
  },
  {
   "cell_type": "code",
   "id": "e411bcd5-108b-463c-ba2c-c85e7fdb059a",
   "metadata": {},
   "source": [
    "ydl_opts = {\n",
    "    'format': 'flac/bestaudio/best',\n",
    "    'postprocessors': [{\n",
    "        'key': 'FFmpegExtractAudio',\n",
    "        'preferredcodec': 'flac',  # preferred audio format\n",
    "    }],\n",
    "    'outtmpl': '../newData/engine/%(id)s.%(ext)s',\n",
    "    'no_warnings':True,\n",
    "    'quiet': True,\n",
    "    'ffmpeg_location': '/opt/homebrew/bin/ffmpeg'\n",
    "    # suppress output\n",
    "}"
   ],
   "outputs": [],
   "execution_count": null
  },
  {
   "cell_type": "code",
   "id": "2ca860d3-0939-48e3-9df1-a1323abd92d7",
   "metadata": {},
   "source": [
    "# TODO: Test the validity of the URL\n",
    "# TODO: Logging with    logger:            Log messages to a logging.Logger instance.\n",
    "def yt_download(url, infokeys = keys_of_interest, opts = ydl_opts, start_time=None, end_time=None):\n",
    "    with YoutubeDL(ydl_opts) as ydl:\n",
    "        info = ydl.extract_info(url, download=False)\n",
    "        serialized_info = ydl.sanitize_info(info)\n",
    "        info_dict = {key: serialized_info[key] for key in keys_of_interest if key in serialized_info}\n",
    "        info_dict[\"full_duration\"] = info_dict[\"duration\"]\n",
    "    if start_time or end_time:\n",
    "        info_dict[\"start_time\"] = start_time or 0\n",
    "        info_dict[\"end_time\"] = end_time or info_dict[\"full_duration\"]\n",
    "        opts['download_ranges'] = download_range_func(None, [(info_dict[\"start_time\"] , info_dict[\"end_time\"])])\n",
    "        opts['force_keyframes_at_cuts'] = True,\n",
    "        info_dict[\"duration\"] = info_dict[\"end_time\"] - info_dict[\"start_time\"]\n",
    "        \n",
    "    with YoutubeDL(ydl_opts) as ydl:\n",
    "        download_info = ydl.extract_info(url, download=True)\n",
    "        serialized_info = ydl.sanitize_info(download_info)\n",
    "        assert len(serialized_info[\"requested_downloads\"]) == 1\n",
    "        download_path = serialized_info[\"requested_downloads\"][0][\"filepath\"]\n",
    "        info_dict[\"path\"] = download_path\n",
    "    return info_dict"
   ],
   "outputs": [],
   "execution_count": null
  },
  {
   "cell_type": "code",
   "id": "c4387ae8-a10e-4582-9ede-850098863349",
   "metadata": {},
   "source": [
    "audio_test = yt_download(url_motorcycle_test)"
   ],
   "outputs": [],
   "execution_count": null
  },
  {
   "cell_type": "code",
   "id": "57c33fcb-2b76-475f-8d17-7d2736dbba9b",
   "metadata": {},
   "source": [
    "test_audio_file_df = pd.DataFrame([audio_test])"
   ],
   "outputs": [],
   "execution_count": null
  },
  {
   "cell_type": "code",
   "id": "6536ff61-0eca-4195-b506-989225d08df7",
   "metadata": {},
   "source": [
    "test_audio_file_df"
   ],
   "outputs": [],
   "execution_count": null
  },
  {
   "cell_type": "code",
   "id": "17e1b840-7f09-45fe-bc42-f00d1b9f9df7",
   "metadata": {},
   "source": [
    "test_audio_file_df.to_json(\"../data/test_audio.json\")"
   ],
   "outputs": [],
   "execution_count": null
  },
  {
   "cell_type": "code",
   "id": "cefafc2f-f69e-4dfb-95e7-574118f20b8a",
   "metadata": {},
   "source": [
    "Audio(audio_test[\"path\"])"
   ],
   "outputs": [],
   "execution_count": null
  },
  {
   "cell_type": "markdown",
   "id": "72e8fa03-9c2b-46ca-85cf-fd41ab38d622",
   "metadata": {},
   "source": [
    "# Audio classification\n",
    "__Plan:__ I will be using a single-shot classifiction approach using [this open model](https://huggingface.co/laion/clap-htsat-fused#usage). This means that I need to predefine audio labels that will be contained in the data. Some of them will be the classes that I want to extract from the audio. I will be splitting the audio into smaller parts of 10s of a second. Then after the classification, I will merge the parts that include the wanted classes into an audio file that will be in our training data."
   ]
  },
  {
   "cell_type": "code",
   "id": "77fab19b-e812-41be-a64b-1230a9d0fbd4",
   "metadata": {},
   "source": [
    "from transformers import pipeline, ClapModel, ClapProcessor, ClapAudioConfig, ClapConfig, ClapTextConfig\n",
    "import scipy.signal as sps"
   ],
   "outputs": [],
   "execution_count": null
  },
  {
   "cell_type": "code",
   "id": "8e59bc44-7697-4d45-85ee-2b4533a20a3e",
   "metadata": {},
   "source": [
    "clap_model = ClapModel.from_pretrained(\"laion/clap-htsat-fused\") # `fused` means that the model has a text and audio modalities in a singular branch\n",
    "clap_processor = ClapProcessor.from_pretrained(\"laion/clap-htsat-fused\")"
   ],
   "outputs": [],
   "execution_count": null
  },
  {
   "metadata": {},
   "cell_type": "code",
   "source": "",
   "id": "9f3b8a22206e5492",
   "outputs": [],
   "execution_count": null
  },
  {
   "cell_type": "code",
   "id": "c8156c74-3568-4312-8e9e-d48d31c21da7",
   "metadata": {},
   "source": [
    "clap_model.config;"
   ],
   "outputs": [],
   "execution_count": null
  },
  {
   "cell_type": "code",
   "id": "fbdd7a4a-24b0-428e-b280-e34812d87315",
   "metadata": {},
   "source": [
    "classes = [\"Engine revving\", \"Speach\", \"Silence\", \"Engine starting\", \"Engine running\"]"
   ],
   "outputs": [],
   "execution_count": null
  },
  {
   "cell_type": "markdown",
   "id": "d0a08a86-7414-4829-9054-7a5fec3caebb",
   "metadata": {},
   "source": [
    "## Testing Clap"
   ]
  },
  {
   "cell_type": "code",
   "id": "cd9fa9f1-913d-42e7-8944-217d2fdcc101",
   "metadata": {},
   "source": [
    "test_dataset = load_dataset(\"hf-internal-testing/ashraq-esc50-1-dog-example\")\n",
    "test_audio_sample = test_dataset[\"train\"][\"audio\"][0]"
   ],
   "outputs": [],
   "execution_count": null
  },
  {
   "cell_type": "code",
   "id": "52ff0c1c-72ec-443f-959d-d7639d51c711",
   "metadata": {},
   "source": [
    "test_audio_sample"
   ],
   "outputs": [],
   "execution_count": null
  },
  {
   "cell_type": "code",
   "id": "064d5b55-f443-4be4-a89a-bb7626f872ef",
   "metadata": {},
   "source": [
    "Audio(test_audio_sample[\"array\"], rate=test_audio_sample[\"sampling_rate\"])"
   ],
   "outputs": [],
   "execution_count": null
  },
  {
   "cell_type": "code",
   "id": "56789596-8710-48b1-9f93-7b603603dbd1",
   "metadata": {},
   "source": [
    "test_audio_sample_resamped = sps.resample(test_audio_sample[\"array\"], round(len(test_audio_sample[\"array\"]) * float(48000) / test_audio_sample[\"sampling_rate\"]))"
   ],
   "outputs": [],
   "execution_count": null
  },
  {
   "cell_type": "code",
   "id": "547ecc8d-6278-4d7e-b8b3-fa9db0a34a70",
   "metadata": {},
   "source": [
    "test_classes = [\"Dog barking\", \"Cat sounds\"]"
   ],
   "outputs": [],
   "execution_count": null
  },
  {
   "cell_type": "code",
   "id": "655cf329-5f23-4f4d-b268-45c589e7c63f",
   "metadata": {},
   "source": [
    "test_clap_inputs = clap_processor(text=test_classes, audios=test_audio_sample_resamped, return_tensors=\"pt\", padding=True, sampling_rate=48000)"
   ],
   "outputs": [],
   "execution_count": null
  },
  {
   "cell_type": "code",
   "id": "069714f6-e282-4320-82ca-aeff92b180b9",
   "metadata": {},
   "source": [
    "test_outputs = clap_model(**test_clap_inputs)"
   ],
   "outputs": [],
   "execution_count": null
  },
  {
   "cell_type": "code",
   "id": "c4616514-46d9-4cf4-83ab-9f6d9357dd34",
   "metadata": {},
   "source": [
    "test_probs = test_outputs.logits_per_audio.softmax(dim=-1)  # this is the audio-text similarity score"
   ],
   "outputs": [],
   "execution_count": null
  },
  {
   "cell_type": "code",
   "id": "3203572e-0057-4869-a572-5aee63837dbc",
   "metadata": {},
   "source": [
    "{c: float(p) for c,p in zip(test_classes, test_probs[0])}"
   ],
   "outputs": [],
   "execution_count": null
  },
  {
   "cell_type": "markdown",
   "id": "8367dcc7-7427-4c8e-9c40-376162401e15",
   "metadata": {},
   "source": [
    "## Spliting into Frames"
   ]
  },
  {
   "cell_type": "code",
   "id": "986d9a56-0ad2-46da-a533-2fc9536d67fa",
   "metadata": {},
   "source": [
    "import librosa\n",
    "import numpy as np"
   ],
   "outputs": [],
   "execution_count": null
  },
  {
   "cell_type": "code",
   "id": "3b45d7d6-bfa9-4179-90eb-c684b465eb6d",
   "metadata": {},
   "source": [
    "audio_test_array,audio_test_array_sr = librosa.load(audio_test[\"path\"])"
   ],
   "outputs": [],
   "execution_count": null
  },
  {
   "cell_type": "code",
   "id": "79f2335f-64ac-476f-aed7-c1fff1d5095f",
   "metadata": {},
   "source": [
    "def resample(audio_input, current_rate, target_rate):\n",
    "    return sps.resample(audio_input, round(len(audio_input) * float(target_rate) / current_rate))"
   ],
   "outputs": [],
   "execution_count": null
  },
  {
   "cell_type": "code",
   "id": "47020ccd-a2d3-4373-91f1-91587187c4fb",
   "metadata": {},
   "source": [
    "audio_test_array_resamped = resample(audio_test_array, audio_test_array_sr, 48000)"
   ],
   "outputs": [],
   "execution_count": null
  },
  {
   "cell_type": "code",
   "id": "9c50d771-4308-41ac-a563-900488c7f7a9",
   "metadata": {
    "scrolled": true
   },
   "source": [
    "Audio(audio_test_array_resamped, rate=48000)"
   ],
   "outputs": [],
   "execution_count": null
  },
  {
   "cell_type": "code",
   "id": "26fb7718-ec93-4e4e-8064-59363df002bd",
   "metadata": {},
   "source": [
    "def audio_frames(audio_input, frame_duration=10000, overlap_duration=5000, rate=48000):\n",
    "    frame_length = round(frame_duration/1000) * rate\n",
    "    overlap_length = round(overlap_duration/1000) * rate\n",
    "    hop_length = frame_length - overlap_length\n",
    "    frames = librosa.util.frame(audio_input, frame_length=frame_length, hop_length=hop_length, axis=0)\n",
    "    frames_annotated =  [{ \n",
    "        \"array\": w, \n",
    "        \"start_s\":(i*hop_length), # starting sample\n",
    "        \"start_time\":round(1000*(i*hop_length)/rate), # starting time in ms\n",
    "        \"end_s\":((i*hop_length) + frame_length), # ending sample\n",
    "        \"end_time\": round(1000*((i*hop_length) + frame_length)/rate) # ending time in ms\n",
    "    } for i,w in enumerate(frames)]\n",
    "    if len(frames)*hop_length != len(audio_input):\n",
    "        last_frame_start = len(frames)*hop_length\n",
    "        last_frame_end = len(audio_input)\n",
    "        frames_annotated.append({\n",
    "            \"array\": audio_input[last_frame_start:last_frame_end],\n",
    "            \"start_s\": last_frame_start,\n",
    "            \"start_time\": round(1000*last_frame_start/rate),\n",
    "            \"end_s\": last_frame_end,\n",
    "            \"end_time\": round(1000*last_frame_end/rate)\n",
    "        })\n",
    "    return frames_annotated"
   ],
   "outputs": [],
   "execution_count": null
  },
  {
   "cell_type": "code",
   "id": "e9063aea-f183-4437-a92b-6c69b3d29162",
   "metadata": {},
   "source": [
    "frames_test = audio_frames(audio_test_array_resamped, overlap_duration=5000)"
   ],
   "outputs": [],
   "execution_count": null
  },
  {
   "cell_type": "code",
   "id": "19371d6d-d6e8-4d7a-802b-ab6c9cc693fa",
   "metadata": {},
   "source": [
    "Audio(frames_test[5][\"array\"], rate=48000)"
   ],
   "outputs": [],
   "execution_count": null
  },
  {
   "cell_type": "code",
   "id": "5770bfad-3505-474a-8c1e-f9c65ef58169",
   "metadata": {},
   "source": [
    "Audio(frames_test[6][\"array\"], rate=48000)"
   ],
   "outputs": [],
   "execution_count": null
  },
  {
   "cell_type": "markdown",
   "id": "6fb3ef89-a81e-43f3-9375-a9040e922bb2",
   "metadata": {},
   "source": [
    "## Classification of the Frames"
   ]
  },
  {
   "cell_type": "code",
   "id": "08379e9b-3540-4b0b-ba37-2de4af26738f",
   "metadata": {},
   "source": [
    "# TODO: Add progress bar\n",
    "def classify_frames(frames, classes, model = clap_model):\n",
    "    frames_classified = []\n",
    "    for f in frames:   \n",
    "        fc = f.copy()\n",
    "        frame_inputs = clap_processor(text=classes, audios=fc[\"array\"], return_tensors=\"pt\", padding=True, sampling_rate=48000),\n",
    "        frame_outputs = model(**frame_inputs[0])\n",
    "        probs = frame_outputs.logits_per_audio.softmax(dim=-1)  # this is the audio-text similarity score\n",
    "        fc[\"probs\"] = {c: float(p) for c,p in zip(classes, probs[0])}\n",
    "        frames_classified.append(fc)\n",
    "    return frames_classified"
   ],
   "outputs": [],
   "execution_count": null
  },
  {
   "cell_type": "code",
   "id": "c9a73163-1001-48a3-bffc-0903b4edee38",
   "metadata": {},
   "source": [
    "frames_test_classified = classify_frames(frames_test, classes)"
   ],
   "outputs": [],
   "execution_count": null
  },
  {
   "cell_type": "code",
   "id": "c318b213-e6a3-49db-a996-afd61ba21e29",
   "metadata": {},
   "source": [
    "Audio(frames_test_classified[0][\"array\"], rate=48000)"
   ],
   "outputs": [],
   "execution_count": null
  },
  {
   "cell_type": "code",
   "id": "7604d970-b3e7-491d-8830-af94805893be",
   "metadata": {},
   "source": [
    "frames_test_classified[0][\"probs\"]"
   ],
   "outputs": [],
   "execution_count": null
  },
  {
   "cell_type": "code",
   "id": "bf3ec082-d182-4ca2-92b3-ccef4d116a72",
   "metadata": {},
   "source": [
    "Audio(frames_test_classified[8][\"array\"], rate=48000)"
   ],
   "outputs": [],
   "execution_count": null
  },
  {
   "cell_type": "code",
   "id": "e36a9fea-c0e8-4228-951b-c01bd35b0d7d",
   "metadata": {},
   "source": [
    "frames_test_classified[8][\"probs\"] "
   ],
   "outputs": [],
   "execution_count": null
  },
  {
   "cell_type": "code",
   "id": "9f133436-078a-439e-a4c7-f2f5228cc085",
   "metadata": {},
   "source": [
    "Audio(frames_test_classified[12][\"array\"], rate=48000)"
   ],
   "outputs": [],
   "execution_count": null
  },
  {
   "cell_type": "code",
   "id": "772efb7e-cefd-4b27-ad06-18c07c4032e0",
   "metadata": {},
   "source": [
    "frames_test_classified[12][\"probs\"]"
   ],
   "outputs": [],
   "execution_count": null
  },
  {
   "cell_type": "code",
   "id": "ea4991a3-7660-4cc4-aec1-9f241f671320",
   "metadata": {},
   "source": [
    "import matplotlib.pyplot as plt"
   ],
   "outputs": [],
   "execution_count": null
  },
  {
   "cell_type": "code",
   "id": "eecc905b-5d6d-4a78-a77b-a55d678dbfbf",
   "metadata": {},
   "source": [
    "def prob_plot(frames_classified, classes):\n",
    "    frames_probs = dict()\n",
    "    for c in classes:\n",
    "        frames_probs[c] = [f[\"probs\"][c] for f in frames_classified]\n",
    "    times = [f[\"start_time\"]/1000 for f in frames_classified]\n",
    "    fig, ax = plt.subplots()\n",
    "    for c in classes:\n",
    "        ax.step(times, frames_probs[c], where = \"post\", label = c)\n",
    "    ax.legend()\n",
    "    ax.set_xlabel(\"time (s)\")\n",
    "    ax.set_ylabel(\"p(class)\")\n",
    "    plt.show()"
   ],
   "outputs": [],
   "execution_count": null
  },
  {
   "cell_type": "code",
   "id": "911b7447-f308-4840-bc82-c3e6c7abeb21",
   "metadata": {},
   "source": [
    "prob_plot(frames_test_classified, classes)"
   ],
   "outputs": [],
   "execution_count": null
  },
  {
   "cell_type": "markdown",
   "id": "1f8f9845-10e5-4af4-b1c1-ff9d153dbab6",
   "metadata": {},
   "source": [
    "# Merging the Fidelized Frames"
   ]
  },
  {
   "cell_type": "code",
   "id": "92befee8-41d3-4717-817a-8113127c2209",
   "metadata": {},
   "source": [
    "def merge_frames(frames, audio_array):\n",
    "    merged_segment = dict()\n",
    "    merged_segment[\"start_s\"] = np.min([s[\"start_s\"] for s in frames]) \n",
    "    merged_segment[\"start_time\"] = np.min([s[\"start_time\"] for s in frames])\n",
    "    merged_segment[\"end_s\"] = np.max([s[\"end_s\"] for s in frames]) \n",
    "    merged_segment[\"end_time\"] = np.max([s[\"end_time\"] for s in frames])\n",
    "    merged_segment[\"array\"] = audio_array[merged_segment[\"start_s\"]:merged_segment[\"end_s\"]]\n",
    "    return merged_segment\n",
    "def get_valid_segments(frames_classified, audio_array, accepted_classes, class_thresh = 0.8):\n",
    "    valid_segments = []\n",
    "    is_valid_segment = [np.sum([f[\"probs\"][c] for c in accepted_classes])  > class_thresh for f in frames_classified]\n",
    "    current_segment = []\n",
    "    for i,valid_f in enumerate(is_valid_segment):\n",
    "        if valid_f:\n",
    "            current_segment.append(frames_classified[i])\n",
    "        else:\n",
    "            if len(current_segment) == 0:\n",
    "                continue\n",
    "            valid_segments.append(merge_frames(current_segment, audio_array))\n",
    "            current_segment = []\n",
    "         # last segment needs to be added if it ends with True\n",
    "        if len(is_valid_segment) == (i+1) and len(current_segment) != 0:\n",
    "            valid_segments.append(merge_frames(current_segment, audio_array))\n",
    "    return valid_segments"
   ],
   "outputs": [],
   "execution_count": null
  },
  {
   "cell_type": "code",
   "id": "f4af1476-4a78-4453-826b-0b50ec7fd9c7",
   "metadata": {},
   "source": [
    "valid_segments_test = get_valid_segments(frames_test_classified, audio_test_array_resamped, [\"Engine revving\", \"Engine running\", \"Engine starting\"])"
   ],
   "outputs": [],
   "execution_count": null
  },
  {
   "cell_type": "code",
   "id": "463863cd-d9f8-4950-8408-c4d76a8471f5",
   "metadata": {},
   "source": [
    "is_valid_segment = [np.sum([f[\"probs\"][c] for c in [\"Engine revving\", \"Engine running\", \"Engine starting\"]])  > 0.8 for f in frames_test_classified]"
   ],
   "outputs": [],
   "execution_count": null
  },
  {
   "cell_type": "code",
   "id": "f3cf54fe-67be-49fa-9fd2-d5d5bc877a6a",
   "metadata": {},
   "source": [
    "valid_segments_test"
   ],
   "outputs": [],
   "execution_count": null
  },
  {
   "cell_type": "code",
   "id": "491ed6a2-ad02-4736-a0b7-7e550a94da2e",
   "metadata": {},
   "source": [
    "fig,ax = plt.subplots()\n",
    "ax.stairs(is_valid_segment)\n",
    "ax.set_title(\"Valid segments\")\n",
    "plt.show()"
   ],
   "outputs": [],
   "execution_count": null
  },
  {
   "cell_type": "code",
   "id": "abf6b747-4bed-40bb-961d-3858b7288cf5",
   "metadata": {},
   "source": [
    "is_valid_segment;"
   ],
   "outputs": [],
   "execution_count": null
  },
  {
   "cell_type": "code",
   "id": "d712e2cd-5ee8-4b8a-b579-edc453cffbd0",
   "metadata": {},
   "source": [
    "Audio(valid_segments_test[0][\"array\"], rate=48000)"
   ],
   "outputs": [],
   "execution_count": null
  },
  {
   "cell_type": "markdown",
   "id": "8c64a5b7-81c6-476c-bd06-1421a5a7c0eb",
   "metadata": {},
   "source": [
    "## Testing Motorcyle / Car Zeroshot Classification"
   ]
  },
  {
   "cell_type": "code",
   "id": "7e122947-d040-4031-9f12-cf9cad196d39",
   "metadata": {},
   "source": [
    "url_moto_test = 'https://youtu.be/--EG-JqO4S0?si=Py8FBEOvyR_5V_vm'\n",
    "url_embed_moto_test = \"https://www.youtube.com/embed/--EG-JqO4S0?si=Py8FBEOvyR_5V_vm\"\n",
    "url_car_test = 'https://youtu.be/-3d2F1GLG3w?si=9LK9bDh_SaVYUwCi'\n",
    "url_embed_car_test = 'https://www.youtube.com/embed/-3d2F1GLG3w?si=9LK9bDh_SaVYUwCi'"
   ],
   "outputs": [],
   "execution_count": null
  },
  {
   "cell_type": "code",
   "id": "7644d97d-9cd2-4062-9613-9d1f70f2f073",
   "metadata": {},
   "source": [
    "IFrame(width=300, height=200, src=url_embed_moto_test, title=\"YouTube video player\")"
   ],
   "outputs": [],
   "execution_count": null
  },
  {
   "cell_type": "code",
   "id": "977fd181-bbbc-4941-ae1d-d36d963c0b3d",
   "metadata": {},
   "source": [
    "IFrame(width=300, height=200, src=url_embed_car_test, title=\"YouTube video player\")"
   ],
   "outputs": [],
   "execution_count": null
  },
  {
   "cell_type": "code",
   "id": "2e9999b8-0594-4bd7-a9c0-7c9486ee1d6d",
   "metadata": {},
   "source": [
    "audio_test_moto = yt_download(url_moto_test)\n",
    "audio_test_car = yt_download(url_car_test)"
   ],
   "outputs": [],
   "execution_count": null
  },
  {
   "cell_type": "code",
   "id": "cc55183f-bbaa-4ccd-9e7b-46ed62c36ddb",
   "metadata": {},
   "source": [
    "pd.DataFrame([audio_test_moto, audio_test_car])"
   ],
   "outputs": [],
   "execution_count": null
  },
  {
   "cell_type": "code",
   "id": "03e2d84c-b708-40a5-8a00-b7edbb592ba9",
   "metadata": {},
   "source": [
    "audio_test_array_moto, audio_test_array_moto_sr = librosa.load(audio_test_moto[\"path\"])\n",
    "audio_test_array_car, audio_test_array_car_sr = librosa.load(audio_test_car[\"path\"])\n",
    "\n",
    "audio_test_array_moto_resamped = resample(audio_test_array_moto, audio_test_array_moto_sr, 48000)\n",
    "audio_test_array_car_resamped = resample(audio_test_array_car, audio_test_array_car_sr, 48000)\n",
    "\n",
    "frames_test_moto = audio_frames(audio_test_array_moto_resamped)\n",
    "frames_test_car = audio_frames(audio_test_array_car_resamped)\n",
    "\n",
    "frames_test_moto_classified = classify_frames(frames_test_moto, classes)\n",
    "frames_test_car_classified = classify_frames(frames_test_car, classes)\n",
    "\n",
    "valid_classes = [\"Engine revving\", \"Engine running\", \"Engine starting\"]\n",
    "valid_segments_test_moto = get_valid_segments(frames_test_moto_classified, audio_test_array_moto_resamped, valid_classes)\n",
    "valid_segments_test_car = get_valid_segments(frames_test_car_classified, audio_test_array_car_resamped, valid_classes)"
   ],
   "outputs": [],
   "execution_count": null
  },
  {
   "cell_type": "code",
   "id": "97d908c7-0c7c-472d-9c58-58862c985433",
   "metadata": {},
   "source": [
    "prob_plot(frames_test_moto_classified, classes)"
   ],
   "outputs": [],
   "execution_count": null
  },
  {
   "cell_type": "code",
   "id": "f3b33c98-81e6-453f-8b76-db010a08e4a6",
   "metadata": {},
   "source": [
    "prob_plot(frames_test_car_classified, classes)"
   ],
   "outputs": [],
   "execution_count": null
  },
  {
   "cell_type": "code",
   "id": "46067849-86e3-478b-959b-5f51d5a6238b",
   "metadata": {},
   "source": [
    "Audio(valid_segments_test_car[0][\"array\"], rate=48000)"
   ],
   "outputs": [],
   "execution_count": null
  },
  {
   "cell_type": "code",
   "id": "e25a4f75-2b59-4100-9bf1-e967951da20a",
   "metadata": {},
   "source": [
    "Audio(valid_segments_test_moto[0][\"array\"], rate=48000)"
   ],
   "outputs": [],
   "execution_count": null
  },
  {
   "cell_type": "code",
   "id": "30ec0e1e-25bc-40f5-9f1e-255f602a1eb2",
   "metadata": {},
   "source": [
    "test_car_moto_classes = [\"Motorcycle engine\", \"Car engine\"]"
   ],
   "outputs": [],
   "execution_count": null
  },
  {
   "cell_type": "code",
   "id": "28619f55-68f3-403f-b0ac-77e60bffc067",
   "metadata": {},
   "source": [
    "test_clap_inputs_moto = clap_processor(\n",
    "    text=test_car_moto_classes,\n",
    "    audios=valid_segments_test_moto[0][\"array\"], \n",
    "    return_tensors=\"pt\", padding=True, sampling_rate=48000)\n",
    "test_clap_inputs_car = clap_processor(\n",
    "    text=test_car_moto_classes,\n",
    "    audios=valid_segments_test_car[0][\"array\"], \n",
    "    return_tensors=\"pt\", padding=True, sampling_rate=48000)\n",
    "\n",
    "test_outputs_moto = clap_model(**test_clap_inputs_moto)\n",
    "test_outputs_car = clap_model(**test_clap_inputs_car)"
   ],
   "outputs": [],
   "execution_count": null
  },
  {
   "cell_type": "code",
   "id": "b769df2b-248b-4d9e-b568-c4f72d5af89e",
   "metadata": {},
   "source": [
    "test_probs_moto = test_outputs_moto.logits_per_audio.softmax(dim=-1)\n",
    "test_probs_car = test_outputs_car.logits_per_audio.softmax(dim=-1)"
   ],
   "outputs": [],
   "execution_count": null
  },
  {
   "cell_type": "code",
   "id": "834a23b4-4442-4afa-ba06-f32646852c0f",
   "metadata": {},
   "source": [
    "{c: float(p) for c,p in zip(test_car_moto_classes, test_probs_moto[0])}"
   ],
   "outputs": [],
   "execution_count": null
  },
  {
   "cell_type": "code",
   "id": "4becd3e6-451f-43b7-ba18-5cce0eb94d69",
   "metadata": {},
   "source": [
    "{c: float(p) for c,p in zip(test_car_moto_classes, test_probs_car[0])}"
   ],
   "outputs": [],
   "execution_count": null
  },
  {
   "cell_type": "markdown",
   "id": "f001473d-21e4-4d28-bb0d-78c05c529c00",
   "metadata": {},
   "source": [
    "**Clap cannot faithfully recognize a motorcycle engine sound from the car engine sound!**"
   ]
  },
  {
   "cell_type": "markdown",
   "id": "37a94571-23e0-499e-93bc-7e451bcd0a81",
   "metadata": {},
   "source": [
    "# Scraping the Candidate URLs\n",
    "- We will be using [this site](https://research.google.com/audioset/////unbalanced_train/engine.html) for the dataset scraping"
   ]
  },
  {
   "cell_type": "code",
   "id": "164fa6d2-700c-4d33-83a0-c54879bbda66",
   "metadata": {},
   "source": [
    "import os, time\n",
    "\n",
    "from bs4 import BeautifulSoup\n",
    "import requests\n",
    "# data is populated using a script therefore we need to use a webdriver to run the javascript\n",
    "# unfortunately for this it is necessary to have the chrome binary oooff...\n",
    "from selenium import webdriver\n",
    "from selenium.webdriver.chrome.service import Service\n",
    "from webdriver_manager.chrome import ChromeDriverManager"
   ],
   "outputs": [],
   "execution_count": null
  },
  {
   "cell_type": "code",
   "id": "801894d6-e81f-4771-8199-855d9583e191",
   "metadata": {},
   "source": [
    "driver = webdriver.Chrome(service=Service(ChromeDriverManager().install()))"
   ],
   "outputs": [],
   "execution_count": null
  },
  {
   "cell_type": "code",
   "id": "cb8c487c-5696-474f-adad-5550ded16de5",
   "metadata": {},
   "source": [
    "testing_category_url = \"https://research.google.com/audioset/eval/squeak.html\""
   ],
   "outputs": [],
   "execution_count": null
  },
  {
   "cell_type": "code",
   "id": "02b20f0b-2ee5-4163-b518-b5e182381556",
   "metadata": {},
   "source": [
    "def load_full_page(driver, category_url=None):\n",
    "    if category_url:\n",
    "        driver.get(category_url)\n",
    "    driver.implicitly_wait(10)\n",
    "\n",
    "    # scroll infinitely in order to load all of the thumbnails\n",
    "    last_height = driver.execute_script(\"return document.body.scrollHeight\")\n",
    "    while True:\n",
    "        driver.execute_script(\"window.scrollTo(0, document.body.scrollHeight);\")\n",
    "        time.sleep(2)\n",
    "        new_height = driver.execute_script(\"return document.body.scrollHeight\")\n",
    "        if new_height == last_height: # at the end of page\n",
    "            break\n",
    "        \n",
    "        last_height = new_height\n",
    "    return driver"
   ],
   "outputs": [],
   "execution_count": null
  },
  {
   "cell_type": "code",
   "id": "e5617df9-b729-4d84-9891-4f5958c91789",
   "metadata": {},
   "source": [
    "driver = load_full_page(driver, testing_category_url)\n",
    "soup = BeautifulSoup(driver.page_source, 'html.parser')"
   ],
   "outputs": [],
   "execution_count": null
  },
  {
   "cell_type": "code",
   "id": "62a7b1f7-22c5-4c7a-8bae-4990d18fb041",
   "metadata": {},
   "source": [
    "def find_thumbnails(soup):\n",
    "    thumbnail_div = soup.find('div', attrs={'id':'thumbnails'})\n",
    "    thumbnail_divs = thumbnail_div.find_all('div', {'class':'u'})\n",
    "    thumbs_dicts = []\n",
    "    label_dict = dict()\n",
    "    for t in thumbnail_divs:\n",
    "        new = dict()\n",
    "        new['yt-id'] = t['data-ytid']\n",
    "        new['start-t'] = int(t['data-start'])\n",
    "        new['end-t'] = int(t['data-end'])\n",
    "        labs = json.loads(t['data-labels'])\n",
    "        new['labels'] = [l[1] for l in labs]\n",
    "        for l in labs:\n",
    "            if not label_dict.get(l[1]):\n",
    "                label_dict[l[1]] = l[0]\n",
    "        thumbs_dicts.append(new)\n",
    "    return thumbs_dicts, thumbnail_divs"
   ],
   "outputs": [],
   "execution_count": null
  },
  {
   "cell_type": "code",
   "id": "74a7720b-5f60-4587-8275-1985682e5eb8",
   "metadata": {},
   "source": [
    "thumbs_dicst, thumbnail_divs = find_thumbnails(soup)"
   ],
   "outputs": [],
   "execution_count": null
  },
  {
   "cell_type": "code",
   "id": "8cd22248-e80e-47c1-a3ba-d0527c067b67",
   "metadata": {},
   "source": [
    "len(thumbnail_divs)"
   ],
   "outputs": [],
   "execution_count": null
  },
  {
   "cell_type": "markdown",
   "id": "d311dac7-149b-4099-b145-2fe68f36454b",
   "metadata": {},
   "source": [
    "**STATE: All the info needed to download the files for the categories is scraped. We have the function for downloading in only parts of the audio ready. I am waiting only for Filips category selection.**"
   ]
  },
  {
   "cell_type": "code",
   "id": "a37b088e-8feb-491d-8d96-09b0ca050a95",
   "metadata": {},
   "source": "pd.DataFrame.from_dict(thumbs_dicst)",
   "outputs": [],
   "execution_count": null
  },
  {
   "cell_type": "markdown",
   "id": "19b56510-0d32-42f0-9b22-ee23d65aba07",
   "metadata": {},
   "source": [
    "# Downloading the Audio Samples"
   ]
  },
  {
   "cell_type": "code",
   "id": "8f858bcf-4cbe-4a47-936c-1948b5eaea88",
   "metadata": {},
   "source": [
    " url_V8_engine_sound = 'https://www.youtube.com/watch?v=QunyWALxgps'\n",
    " url_VW_review = 'https://youtu.be/UIfRuOaB2dA?si=ikC_EbabT0e-tZxq'"
   ],
   "outputs": [],
   "execution_count": null
  },
  {
   "cell_type": "code",
   "id": "cc52841b-951b-47a6-9866-eaa077909938",
   "metadata": {},
   "source": [
    "vehicle_category_url = 'https://research.google.com/audioset/unbalanced_train/vehicle.html'"
   ],
   "outputs": [],
   "execution_count": null
  },
  {
   "cell_type": "code",
   "id": "e7bba199-7b5c-4331-9008-34411e3d3103",
   "metadata": {},
   "source": [
    "driver_vehicle = webdriver.Chrome(service=Service(ChromeDriverManager().install()))"
   ],
   "outputs": [],
   "execution_count": null
  },
  {
   "cell_type": "code",
   "id": "34a950a1-9e2b-41af-940f-d507ec7271dc",
   "metadata": {},
   "source": [
    "for i in range(100):\n",
    "    driver_vehicle = load_full_page(driver_vehicle, vehicle_category_url)\n",
    "    print(driver_vehicle)\n",
    "    print(i)"
   ],
   "outputs": [],
   "execution_count": null
  },
  {
   "cell_type": "code",
   "id": "9e98138b-ae86-498b-8464-15ec46de9a5c",
   "metadata": {},
   "source": [
    "soup_vehicles = BeautifulSoup(driver_vehicle.page_source, 'html.parser')"
   ],
   "outputs": [],
   "execution_count": null
  },
  {
   "cell_type": "code",
   "id": "ab2f9986-33a0-426e-9255-0cff22c275b0",
   "metadata": {},
   "source": [
    "df_vehicle_audioset = pd.DataFrame.from_dict(thumbs_dicts_vehicles)\n",
    "print(df_vehicle_audioset)"
   ],
   "outputs": [],
   "execution_count": null
  },
  {
   "metadata": {},
   "cell_type": "code",
   "source": "thumbs_dicts_vehicles, thumbnail_divs_vehicles = find_thumbnails(soup_vehicles)",
   "id": "87e62a81-6878-4738-bc89-c50f3f1517ab",
   "outputs": [],
   "execution_count": null
  },
  {
   "cell_type": "code",
   "id": "e34f5654-caa3-44a2-9302-9d337283f696",
   "metadata": {},
   "source": [
    "df_speech_and_vehicle = df_vehicle_audioset[df_vehicle_audioset[\"labels\"].apply(lambda lbls: \"vehicle\" in lbls)]\n",
    "df_speech_and_vehicle"
   ],
   "outputs": [],
   "execution_count": null
  },
  {
   "cell_type": "code",
   "id": "09801828-befe-4d70-9860-b8e3c9c7d240",
   "metadata": {},
   "source": [
    "for _,s in tqdm(df_speech_and_vehicle.iterrows()):\n",
    "    yt_info = yt_download(s[\"yt-id\"], start_time=s[\"start-t\"], end_time=s[\"end-t\"])\n",
    "    yt_info[\"labels\"] = s[\"labels\"]\n",
    "    download_information.append(yt_info)"
   ],
   "outputs": [],
   "execution_count": null
  },
  {
   "metadata": {},
   "cell_type": "code",
   "source": "download_information = []",
   "id": "d9701170-4ab7-4bd5-babe-dc1298a2d4ca",
   "outputs": [],
   "execution_count": null
  },
  {
   "metadata": {},
   "cell_type": "code",
   "source": "audio_test",
   "id": "39e30a5c-03f8-42da-9c97-b99bcd962c84",
   "outputs": [],
   "execution_count": null
  },
  {
   "metadata": {},
   "cell_type": "code",
   "source": "from tqdm import tqdm",
   "id": "e9ef9db4-3dac-45bf-bfe0-560a9df7f5bf",
   "outputs": [],
   "execution_count": null
  },
  {
   "cell_type": "code",
   "id": "83916d9a-3a13-4f4e-9e0b-2beecf7f6405",
   "metadata": {},
   "source": [
    "df_download_info = pd.DataFrame.from_dict(download_information)"
   ],
   "outputs": [],
   "execution_count": null
  },
  {
   "cell_type": "code",
   "id": "4047ed26-a9c4-42dc-b5f9-322b152349c5",
   "metadata": {},
   "source": [
    "df_download_info.to_parquet('../download_info.parquet')\n",
    "# loaded_df = pd.read_parquet('../download_info.parquet')"
   ],
   "outputs": [],
   "execution_count": null
  },
  {
   "cell_type": "code",
   "id": "1b2134e8-4831-4406-9312-ebf4a8d7ab7a",
   "metadata": {},
   "source": [
    "df_speech_and_vehicle.to_parquet(\"../speech_and_vehicle_audioset.parquet\")"
   ],
   "outputs": [],
   "execution_count": null
  },
  {
   "cell_type": "code",
   "id": "843507a8-8e5b-474f-b7c6-0982b6955362",
   "metadata": {},
   "source": [
    "df_vehicle_audioset.to_parquet(\"../vehicle_audioset.parquet\")"
   ],
   "outputs": [],
   "execution_count": null
  },
  {
   "cell_type": "markdown",
   "id": "8a8eefce-4527-43a9-847d-103bb5a98300",
   "metadata": {
    "jp-MarkdownHeadingCollapsed": true
   },
   "source": [
    "# Cleaning the Sounds and Indexing the Files"
   ]
  },
  {
   "metadata": {},
   "cell_type": "code",
   "source": [
    "import pandas as pd\n",
    "\n",
    "# Load the Parquet file\n",
    "parquet_file = '../vehicle_audioset_full.parquet'\n",
    "df = pd.read_parquet(parquet_file)\n",
    "\n",
    "# Save the DataFrame to JSON\n",
    "json_file = 'vehicle_audioset_full.json'\n",
    "df.to_json(json_file, orient='records', lines=True)\n",
    "\n",
    "print(\"Conversion completed. JSON saved at:\", json_file)"
   ],
   "id": "8c8d1351e857f47a",
   "outputs": [],
   "execution_count": null
  },
  {
   "metadata": {},
   "cell_type": "code",
   "source": [
    "import pandas as pd\n",
    "import json\n",
    "\n",
    "# Load Parquet file\n",
    "input_file = \"../vehicle_audioset_full.parquet\"\n",
    "output_file = \"../filtered_vehicle_audioset.parquet\"\n",
    "\n",
    "# Load DataFrame\n",
    "df = pd.read_parquet(input_file)\n",
    "\n",
    "# Labels to filter (you can add the desired labels here)\n",
    "specific_labels = ['music']  # Example labels\n",
    "\n",
    "# Function to check if any specific label exists in 'labels.list'\n",
    "def label_filter(label_list):\n",
    "    try:\n",
    "        # Convert the string to JSON if it's stored as a string\n",
    "        parsed_list = json.loads(label_list) if isinstance(label_list, str) else label_list\n",
    "        # Extract the 'element' values and decode if necessary\n",
    "        elements = [''.join(chr(c) for c in elem.get('element', [])) for elem in parsed_list]\n",
    "        return any(label in elements for label in specific_labels)\n",
    "    except:\n",
    "        return False\n",
    "\n",
    "# Apply the filter\n",
    "filtered_df = df[df['labels'].apply(label_filter)]\n",
    "\n",
    "# Save filtered data to Parquet\n",
    "filtered_df.to_parquet(output_file, index=False)\n",
    "\n",
    "# Optionally save as JSON\n",
    "filtered_df.to_json(\"filtered_vehicle_audioset.json\", orient=\"records\")\n",
    "\n",
    "print(\"Filtered data saved successfully!\")\n"
   ],
   "id": "e354d57e842595c8",
   "outputs": [],
   "execution_count": null
  },
  {
   "metadata": {},
   "cell_type": "code",
   "source": [
    "import pandas as pd\n",
    "from collections import Counter\n",
    "\n",
    "# Load the Parquet file\n",
    "parquet_file = '../vehicle_audioset_full.parquet'  # Replace with your local file path\n",
    "df = pd.read_parquet(parquet_file)\n",
    "\n",
    "# Filter rows that contain at least one of the desired labels\n",
    "target_labels = {\"engine\", \"speech\", \"music\"}\n",
    "filtered_df = df[df['labels'].apply(lambda x: any(label in target_labels for label in x))]\n",
    "\n",
    "# Extract the filtered labels\n",
    "all_labels = filtered_df['labels']\n",
    "\n",
    "# Count single labels\n",
    "single_labels = Counter(label for labels in all_labels for label in labels if label in target_labels)\n",
    "\n",
    "# Count label combinations\n",
    "combinations = Counter(tuple(sorted(label for label in labels if label in target_labels)) for labels in all_labels)\n",
    "\n",
    "# Display results\n",
    "print(\"Filtered Single Label Counts:\")\n",
    "for label, count in single_labels.items():\n",
    "    print(f\"{label}: {count}\")\n",
    "\n",
    "print(\"\\nFiltered Label Combination Counts:\")\n",
    "for combo, count in combinations.items():\n",
    "    print(f\"{combo}: {count}\")\n"
   ],
   "id": "821d9a36cc04472d",
   "outputs": [],
   "execution_count": null
  },
  {
   "metadata": {},
   "cell_type": "code",
   "source": [
    "import pandas as pd\n",
    "\n",
    "# Load the Parquet file\n",
    "parquet_file = '../vehicle_audioset_full.parquet'  # Replace with your file path\n",
    "output_parquet_file = 'filtered_vehicle_music.parquet'  # Filtered output file\n",
    "\n",
    "# Target labels to filter\n",
    "target_labels = {\"music\"}\n",
    "\n",
    "# Load the Parquet data\n",
    "df = pd.read_parquet(parquet_file)\n",
    "\n",
    "# Filter rows that contain at least one of the target labels\n",
    "filtered_df = df[df['labels'].apply(\n",
    "    lambda x: len(x) == 2 and \"vehicle\" in x and any(label in target_labels for label in x if label != \"vehicle\"))]\n",
    "\n",
    "# Save the filtered DataFrame to a new Parquet file\n",
    "filtered_df.to_parquet(output_parquet_file, index=False)"
   ],
   "id": "561400db0429cd31",
   "outputs": [],
   "execution_count": null
  },
  {
   "metadata": {},
   "cell_type": "code",
   "source": "df_engine = pd.read_parquet('filtered_vehicle_engine.parquet')",
   "id": "37a08ed18b812d38",
   "outputs": [],
   "execution_count": null
  },
  {
   "metadata": {},
   "cell_type": "code",
   "source": [
    "ydl_opts = {\n",
    "    'format': 'flac/bestaudio/best',\n",
    "    'postprocessors': [{\n",
    "        'key': 'FFmpegExtractAudio',\n",
    "        'preferredcodec': 'flac',  # preferred audio format\n",
    "    }],\n",
    "    'outtmpl': '../newData/engine/%(id)s.%(ext)s',\n",
    "    'no_warnings':True,\n",
    "    'quiet': True,\n",
    "    'ffmpeg_location': '/opt/homebrew/bin/ffmpeg'\n",
    "    # suppress output\n",
    "}\n",
    "\n",
    "for idx, (_, s) in enumerate(tqdm(df_engine.iterrows(), total=10)):\n",
    "    if idx >= 10:  # Stop the loop after 10 iterations\n",
    "        break\n",
    "    yt_info = yt_download(s[\"yt-id\"], start_time=s[\"start-t\"], end_time=s[\"end-t\"])\n",
    "    yt_info[\"labels\"] = s[\"labels\"]"
   ],
   "id": "41a09f98a0ff41d3",
   "outputs": [],
   "execution_count": null
  },
  {
   "metadata": {},
   "cell_type": "code",
   "source": [
    "import pandas as pd\n",
    "from tqdm import tqdm\n",
    "import os\n",
    "\n",
    "# Load the Parquet file\n",
    "parquet_file = '../vehicle_audioset_full.parquet'  # Replace with the correct path\n",
    "df = pd.read_parquet(parquet_file)\n",
    "\n",
    "# Define target label combinations\n",
    "target_labels = [\"engine\", \"speech\", \"music\"]\n",
    "number_to_download_per_label = 300\n",
    "# Base output folder\n",
    "output_base = \"grouped\"\n",
    "\n",
    "# Function to filter rows with exactly two labels: \"vehicle\" + a target label\n",
    "def filter_labels(row_labels, target_label):\n",
    "    return len(row_labels) == 2 and \"vehicle\" in row_labels and target_label in row_labels\n",
    "\n",
    "# Process each label and download files\n",
    "for label in target_labels:\n",
    "    print(f\"Processing label: {label}...\")\n",
    "\n",
    "    # Filter DataFrame for \"vehicle\" + target label\n",
    "    filtered_df = df[df['labels'].apply(lambda x: filter_labels(x, label))]\n",
    "    print(f\"Found {len(filtered_df)} rows for label '{label}'\")\n",
    "\n",
    "    # Output folder for the current label\n",
    "    output_folder = os.path.join(output_base, label)\n",
    "    os.makedirs(output_folder, exist_ok=True)\n",
    "\n",
    "    # YouTube download options with dynamic outtmpl for each label\n",
    "    ydl_opts = {\n",
    "        'format': 'flac/bestaudio/best',\n",
    "        'postprocessors': [{\n",
    "            'key': 'FFmpegExtractAudio',\n",
    "            'preferredcodec': 'flac',  # preferred audio format\n",
    "        }],\n",
    "        'outtmpl': os.path.join(output_folder, '%(id)s.%(ext)s'),\n",
    "        'no_warnings': True,\n",
    "        'quiet': True,\n",
    "        'ffmpeg_location': '/opt/homebrew/bin/ffmpeg'\n",
    "    }\n",
    "\n",
    "    downloaded_count = 0\n",
    "\n",
    "    # Download up to 10 files\n",
    "    for idx, (_, s) in enumerate(tqdm(filtered_df.iterrows(), total=min(number_to_download_per_label, len(filtered_df)))):\n",
    "        if downloaded_count >= number_to_download_per_label:  # Stop after downloading 10 files\n",
    "            break\n",
    "        try:\n",
    "            start_time = s.get(\"start-t\", 0)\n",
    "            end_time = s.get(\"end-t\", 0)\n",
    "            duration = end_time - start_time\n",
    "\n",
    "            if duration > 15 or duration <= 0:\n",
    "                print(f\"Skipping {s['yt-id']} due to duration ({duration} seconds).\")\n",
    "                continue\n",
    "\n",
    "            # Download the file with the current ydl_opts\n",
    "            yt_download(\n",
    "                s[\"yt-id\"],\n",
    "                opts=ydl_opts,\n",
    "                start_time=start_time,\n",
    "                end_time=end_time\n",
    "            )\n",
    "            downloaded_count += 1\n",
    "        except Exception as e:\n",
    "            print(f\"Error processing {s['yt-id']}: {e}\")\n",
    "\n",
    "    print(f\"Completed processing for label '{label}'. Downloaded {downloaded_count} files.\")\n"
   ],
   "id": "1471201086c6c1d4",
   "outputs": [],
   "execution_count": null
  }
 ],
 "metadata": {
  "kernelspec": {
   "display_name": "Python 3 (ipykernel)",
   "language": "python",
   "name": "python3"
  },
  "language_info": {
   "codemirror_mode": {
    "name": "ipython",
    "version": 3
   },
   "file_extension": ".py",
   "mimetype": "text/x-python",
   "name": "python",
   "nbconvert_exporter": "python",
   "pygments_lexer": "ipython3",
   "version": "3.12.7"
  }
 },
 "nbformat": 4,
 "nbformat_minor": 5
}
